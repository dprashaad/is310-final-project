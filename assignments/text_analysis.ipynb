{
 "cells": [
  {
   "cell_type": "code",
   "execution_count": 29,
   "id": "a3426b0f",
   "metadata": {},
   "outputs": [],
   "source": [
    "import nltk\n",
    "from nltk import word_tokenize\n",
    "from nltk import FreqDist\n",
    "from nltk.stem import PorterStemmer\n",
    "import pandas as pd\n",
    "porter = PorterStemmer()\n",
    "from sklearn.feature_extraction.text import TfidfVectorizer\n",
    "import matplotlib.pyplot as plt"
   ]
  },
  {
   "cell_type": "code",
   "execution_count": 2,
   "id": "ba1e51ec",
   "metadata": {},
   "outputs": [],
   "source": [
    "from nltk.corpus import stopwords\n",
    "stop_words = set(stopwords.words('english'))"
   ]
  },
  {
   "cell_type": "code",
   "execution_count": 3,
   "id": "4fa76802",
   "metadata": {},
   "outputs": [],
   "source": [
    "filmscript=pd.read_csv('cleaned_pudding_public_scripts.csv')"
   ]
  },
  {
   "cell_type": "code",
   "execution_count": 4,
   "id": "28156731",
   "metadata": {},
   "outputs": [],
   "source": [
    "filmscript_10=filmscript.sample(n=10)\n",
    "films_year=filmscript.groupby('year')\n",
    "filmscript_1992=films_year.get_group(1992)\n",
    "filmscript_2002=films_year.get_group(2000)"
   ]
  },
  {
   "cell_type": "code",
   "execution_count": 5,
   "id": "b19b5645",
   "metadata": {},
   "outputs": [],
   "source": [
    "# all script unique words\n",
    "documents = filmscript.script.tolist() #to list is a built in method--turns a column to a list\n",
    "vectorizer = TfidfVectorizer(max_df=.7, min_df=1, stop_words=stop_words)  #way of transforming data--representing text through their frequencies\n",
    "transformed_documents = vectorizer.fit_transform(documents)\n",
    "transformed_documents_as_array = transformed_documents.toarray()\n",
    "links = filmscript.link.tolist()\n",
    "tfidf_results = []\n",
    "for counter, doc in enumerate(transformed_documents_as_array):\n",
    "    # construct a dataframe\n",
    "    tf_idf_tuples = list(zip(vectorizer.get_feature_names_out(), doc))\n",
    "    one_doc_as_df = pd.DataFrame.from_records(tf_idf_tuples, columns=['term', 'score']).sort_values(by='score', ascending=False).reset_index(drop=True)\n",
    "    one_doc_as_df['links'] = links[counter]\n",
    "    tfidf_results.append(one_doc_as_df)\n",
    "tfidf_df = pd.concat(tfidf_results)\n",
    "tfidf_df = tfidf_df.sort_values(by=['score'], ascending=False)\n",
    "# tfidf_df.head(10)\n",
    "# tfidf_df[0:10]"
   ]
  },
  {
   "cell_type": "code",
   "execution_count": 6,
   "id": "c102b8d9",
   "metadata": {},
   "outputs": [
    {
     "data": {
      "text/html": [
       "<div>\n",
       "<style scoped>\n",
       "    .dataframe tbody tr th:only-of-type {\n",
       "        vertical-align: middle;\n",
       "    }\n",
       "\n",
       "    .dataframe tbody tr th {\n",
       "        vertical-align: top;\n",
       "    }\n",
       "\n",
       "    .dataframe thead th {\n",
       "        text-align: right;\n",
       "    }\n",
       "</style>\n",
       "<table border=\"1\" class=\"dataframe\">\n",
       "  <thead>\n",
       "    <tr style=\"text-align: right;\">\n",
       "      <th></th>\n",
       "      <th>term</th>\n",
       "      <th>score</th>\n",
       "      <th>links</th>\n",
       "    </tr>\n",
       "  </thead>\n",
       "  <tbody>\n",
       "    <tr>\n",
       "      <th>0</th>\n",
       "      <td>alice</td>\n",
       "      <td>0.811776</td>\n",
       "      <td>http://www.dailyscript.com/scripts/A-Nightmare...</td>\n",
       "    </tr>\n",
       "    <tr>\n",
       "      <th>0</th>\n",
       "      <td>kimberly</td>\n",
       "      <td>0.810717</td>\n",
       "      <td>http://www.dailyscript.com/scripts/final_desti...</td>\n",
       "    </tr>\n",
       "    <tr>\n",
       "      <th>0</th>\n",
       "      <td>maya</td>\n",
       "      <td>0.810328</td>\n",
       "      <td>http://www.horrorlair.com/scripts/lostsouls.txt</td>\n",
       "    </tr>\n",
       "    <tr>\n",
       "      <th>0</th>\n",
       "      <td>laurie</td>\n",
       "      <td>0.809703</td>\n",
       "      <td>http://www.dailyscript.com/scripts/halloween.html</td>\n",
       "    </tr>\n",
       "    <tr>\n",
       "      <th>0</th>\n",
       "      <td>amy</td>\n",
       "      <td>0.809503</td>\n",
       "      <td>http://www.dailyscript.com/scripts/cursecat.htm</td>\n",
       "    </tr>\n",
       "    <tr>\n",
       "      <th>0</th>\n",
       "      <td>bernie</td>\n",
       "      <td>0.808757</td>\n",
       "      <td>http://www.dailyscript.com/scripts/hero1.html</td>\n",
       "    </tr>\n",
       "    <tr>\n",
       "      <th>0</th>\n",
       "      <td>erik</td>\n",
       "      <td>0.806098</td>\n",
       "      <td>http://www.dailyscript.com/scripts/erik_the_vi...</td>\n",
       "    </tr>\n",
       "    <tr>\n",
       "      <th>0</th>\n",
       "      <td>eddie</td>\n",
       "      <td>0.804175</td>\n",
       "      <td>http://www.dailyscript.com/scripts/Hustler,+Th...</td>\n",
       "    </tr>\n",
       "    <tr>\n",
       "      <th>0</th>\n",
       "      <td>carter</td>\n",
       "      <td>0.803252</td>\n",
       "      <td>http://www.dailyscript.com/scripts/rush_hour.html</td>\n",
       "    </tr>\n",
       "    <tr>\n",
       "      <th>0</th>\n",
       "      <td>welles</td>\n",
       "      <td>0.801022</td>\n",
       "      <td>http://www.dailyscript.com/scripts/RKO218.html</td>\n",
       "    </tr>\n",
       "    <tr>\n",
       "      <th>0</th>\n",
       "      <td>valiant</td>\n",
       "      <td>0.800829</td>\n",
       "      <td>http://www.dailyscript.com/scripts/roger-rabbi...</td>\n",
       "    </tr>\n",
       "    <tr>\n",
       "      <th>0</th>\n",
       "      <td>hercules</td>\n",
       "      <td>0.797243</td>\n",
       "      <td>http://www.cubbi.org/disney/scripts/hercules.txt</td>\n",
       "    </tr>\n",
       "    <tr>\n",
       "      <th>0</th>\n",
       "      <td>ted</td>\n",
       "      <td>0.792839</td>\n",
       "      <td>http://www.awesomefilm.com/script/kramerVsKram...</td>\n",
       "    </tr>\n",
       "    <tr>\n",
       "      <th>0</th>\n",
       "      <td>taran</td>\n",
       "      <td>0.787322</td>\n",
       "      <td>http://www.scifiscripts.com/cartoon/blackcauld...</td>\n",
       "    </tr>\n",
       "    <tr>\n",
       "      <th>0</th>\n",
       "      <td>henry</td>\n",
       "      <td>0.782745</td>\n",
       "      <td>http://www.dailyscript.com/scripts/goodfellas....</td>\n",
       "    </tr>\n",
       "    <tr>\n",
       "      <th>0</th>\n",
       "      <td>andy</td>\n",
       "      <td>0.782522</td>\n",
       "      <td>http://www.dailyscript.com/scripts/shawshank.html</td>\n",
       "    </tr>\n",
       "    <tr>\n",
       "      <th>0</th>\n",
       "      <td>ford</td>\n",
       "      <td>0.781202</td>\n",
       "      <td>http://www.dailyscript.com/scripts/ford-fairla...</td>\n",
       "    </tr>\n",
       "    <tr>\n",
       "      <th>0</th>\n",
       "      <td>finnegan</td>\n",
       "      <td>0.775025</td>\n",
       "      <td>http://www.horrorlair.com/scripts/deeprising.txt</td>\n",
       "    </tr>\n",
       "    <tr>\n",
       "      <th>0</th>\n",
       "      <td>dude</td>\n",
       "      <td>0.774210</td>\n",
       "      <td>https://web.archive.org/web/20131219023653/htt...</td>\n",
       "    </tr>\n",
       "    <tr>\n",
       "      <th>0</th>\n",
       "      <td>terminator</td>\n",
       "      <td>0.772589</td>\n",
       "      <td>http://www.scifiscripts.com/scripts/t2.txt</td>\n",
       "    </tr>\n",
       "  </tbody>\n",
       "</table>\n",
       "</div>"
      ],
      "text/plain": [
       "         term     score                                              links\n",
       "0       alice  0.811776  http://www.dailyscript.com/scripts/A-Nightmare...\n",
       "0    kimberly  0.810717  http://www.dailyscript.com/scripts/final_desti...\n",
       "0        maya  0.810328    http://www.horrorlair.com/scripts/lostsouls.txt\n",
       "0      laurie  0.809703  http://www.dailyscript.com/scripts/halloween.html\n",
       "0         amy  0.809503    http://www.dailyscript.com/scripts/cursecat.htm\n",
       "0      bernie  0.808757      http://www.dailyscript.com/scripts/hero1.html\n",
       "0        erik  0.806098  http://www.dailyscript.com/scripts/erik_the_vi...\n",
       "0       eddie  0.804175  http://www.dailyscript.com/scripts/Hustler,+Th...\n",
       "0      carter  0.803252  http://www.dailyscript.com/scripts/rush_hour.html\n",
       "0      welles  0.801022     http://www.dailyscript.com/scripts/RKO218.html\n",
       "0     valiant  0.800829  http://www.dailyscript.com/scripts/roger-rabbi...\n",
       "0    hercules  0.797243   http://www.cubbi.org/disney/scripts/hercules.txt\n",
       "0         ted  0.792839  http://www.awesomefilm.com/script/kramerVsKram...\n",
       "0       taran  0.787322  http://www.scifiscripts.com/cartoon/blackcauld...\n",
       "0       henry  0.782745  http://www.dailyscript.com/scripts/goodfellas....\n",
       "0        andy  0.782522  http://www.dailyscript.com/scripts/shawshank.html\n",
       "0        ford  0.781202  http://www.dailyscript.com/scripts/ford-fairla...\n",
       "0    finnegan  0.775025   http://www.horrorlair.com/scripts/deeprising.txt\n",
       "0        dude  0.774210  https://web.archive.org/web/20131219023653/htt...\n",
       "0  terminator  0.772589         http://www.scifiscripts.com/scripts/t2.txt"
      ]
     },
     "execution_count": 6,
     "metadata": {},
     "output_type": "execute_result"
    }
   ],
   "source": [
    "tfidf_df[50:70]"
   ]
  },
  {
   "cell_type": "code",
   "execution_count": 7,
   "id": "b0e154fd",
   "metadata": {},
   "outputs": [],
   "source": [
    "#random 10 scripts most unique words\n",
    "documents_10 = filmscript_10.script.tolist() \n",
    "vectorizer_10 = TfidfVectorizer(max_df=.7, min_df=1, stop_words=stop_words)  \n",
    "transformed_documents_10 = vectorizer_10.fit_transform(documents_10)\n",
    "transformed_documents_as_array_10 = transformed_documents_10.toarray()\n",
    "links_10 = filmscript_10.link.tolist()\n",
    "tfidf_results_10 = []\n",
    "for counter_10, doc in enumerate(transformed_documents_as_array_10):\n",
    "    tf_idf_tuples_10 = list(zip(vectorizer_10.get_feature_names_out(), doc))\n",
    "    one_doc_as_df_10 = pd.DataFrame.from_records(tf_idf_tuples_10, columns=['term', 'score']).sort_values(by='score', ascending=False).reset_index(drop=True)\n",
    "    one_doc_as_df_10['link'] = links_10[counter_10]\n",
    "    tfidf_results_10.append(one_doc_as_df_10)\n",
    "tfidf_df_10 = pd.concat(tfidf_results_10)\n",
    "tfidf_df_10 = tfidf_df_10.sort_values(by=['score'], ascending=False)\n",
    "# tfidf_df_10.head(10)\n",
    "    "
   ]
  },
  {
   "cell_type": "code",
   "execution_count": 8,
   "id": "c0d0d968",
   "metadata": {},
   "outputs": [],
   "source": [
    "#10 most unique words from each movie from the randomized 10 list\n",
    "listscript_10=list(filmscript_10.link.unique())\n",
    "for links in listscript_10:\n",
    "    rows=tfidf_df_10[tfidf_df_10.link==links].sort_values(by=['score'], ascending=False)[:10]\n",
    "#     print(rows[['link', 'term', 'score']])"
   ]
  },
  {
   "cell_type": "code",
   "execution_count": 9,
   "id": "6803195c",
   "metadata": {},
   "outputs": [],
   "source": [
    "#most unique words words from 1992\n",
    "documents_92 = filmscript_1992.script.tolist()\n",
    "vectorizer_92 = TfidfVectorizer(max_df=.7, min_df=1, stop_words=stop_words) \n",
    "transformed_documents_92 = vectorizer_92.fit_transform(documents_92)\n",
    "transformed_documents_as_array_92 = transformed_documents_92.toarray()\n",
    "link_92 = filmscript_1992.link.tolist()\n",
    "tfidf_results_92 = []\n",
    "for counter, doc in enumerate(transformed_documents_as_array_92):\n",
    "    tf_idf_tuples_92 = list(zip(vectorizer_92.get_feature_names_out(), doc))\n",
    "    one_doc_as_df_92 = pd.DataFrame.from_records(tf_idf_tuples_92, columns=['term', 'score']).sort_values(by='score', ascending=False).reset_index(drop=True)\n",
    "    one_doc_as_df_92['links'] = link_92[counter]\n",
    "    tfidf_results_92.append(one_doc_as_df_92)\n",
    "tfidf_df_92 = pd.concat(tfidf_results_92)\n",
    "tfidf_df_92 = tfidf_df_92.sort_values(by=['score'], ascending=False)\n",
    "# tfidf_df_92.head(10)\n",
    "# tfidf_df_92[0:10]"
   ]
  },
  {
   "cell_type": "code",
   "execution_count": 10,
   "id": "70bf891c",
   "metadata": {},
   "outputs": [],
   "source": [
    "#10 most unique words of each movie from 1992\n",
    "listscript_92=list(filmscript_1992.link.unique())\n",
    "listscript_92\n",
    "for links in listscript_92:\n",
    "    rows=tfidf_df_92[tfidf_df_92.links==links].sort_values(by=['score'], ascending=False)[:10]\n",
    "#     print(rows[['links','term', 'score']])"
   ]
  },
  {
   "cell_type": "code",
   "execution_count": 11,
   "id": "3a08bf7b",
   "metadata": {},
   "outputs": [],
   "source": [
    "#most unique words of 2002\n",
    "documents_02 = filmscript_2002.script.tolist()\n",
    "vectorizer_02 = TfidfVectorizer(max_df=.7, min_df=1, stop_words=stop_words) \n",
    "transformed_documents_02 = vectorizer_02.fit_transform(documents_02)\n",
    "transformed_documents_as_array_02 = transformed_documents_02.toarray()\n",
    "link_02 = filmscript_2002.link.tolist()\n",
    "tfidf_results_02 = []\n",
    "for counter, doc in enumerate(transformed_documents_as_array_02):\n",
    "    tf_idf_tuples_02 = list(zip(vectorizer_02.get_feature_names_out(), doc))\n",
    "    one_doc_as_df_02 = pd.DataFrame.from_records(tf_idf_tuples_02, columns=['term', 'score']).sort_values(by='score', ascending=False).reset_index(drop=True)\n",
    "    one_doc_as_df_02['links'] = link_02[counter]\n",
    "    tfidf_results_02.append(one_doc_as_df_02)\n",
    "tfidf_df_02 = pd.concat(tfidf_results_02)\n",
    "tfidf_df_02 = tfidf_df_02.sort_values(by=['score'], ascending=False)\n",
    "# tfidf_df_02.head(10)\n",
    "# tfidf_df_02[0:10]"
   ]
  },
  {
   "cell_type": "code",
   "execution_count": 12,
   "id": "220391d4",
   "metadata": {},
   "outputs": [],
   "source": [
    "#10 most unique words of each movie from 2002\n",
    "listscript_02=list(filmscript_2002.link.unique())\n",
    "listscript_02\n",
    "for links in listscript_02:\n",
    "    rows=tfidf_df_02[tfidf_df_02.links==links].sort_values(by=['score'], ascending=False)[:10]\n",
    "#     print(rows[['links','term', 'score']])"
   ]
  },
  {
   "cell_type": "code",
   "execution_count": 22,
   "id": "58d1b28f",
   "metadata": {},
   "outputs": [],
   "source": [
    "def overtime(row, term):\n",
    "    counts=row['script'].count(term)\n",
    "    return counts "
   ]
  },
  {
   "cell_type": "code",
   "execution_count": 35,
   "id": "619f864c",
   "metadata": {},
   "outputs": [],
   "source": [
    "pd.options.mode.chained_assignment = None  # default='warn'\n",
    "\n",
    "test=filmscript[0:1]\n",
    "filmscript['dude_count']=filmscript.apply(overtime, axis=1, term='dude')"
   ]
  },
  {
   "cell_type": "code",
   "execution_count": 41,
   "id": "fdbeeb4f",
   "metadata": {},
   "outputs": [
    {
     "data": {
      "text/plain": [
       "<AxesSubplot:xlabel='year', ylabel='dude_count'>"
      ]
     },
     "execution_count": 41,
     "metadata": {},
     "output_type": "execute_result"
    },
    {
     "data": {
      "image/png": "[encoded data removed]",
      "text/plain": [
       "<Figure size 576x288 with 1 Axes>"
      ]
     },
     "metadata": {
      "needs_background": "light"
     },
     "output_type": "display_data"
    }
   ],
   "source": [
    "filmscript.plot(x='year', y='dude_count', kind='scatter', figsize=(8, 4))"
   ]
  }
 ],
 "metadata": {
  "kernelspec": {
   "display_name": "Python 3 (ipykernel)",
   "language": "python",
   "name": "python3"
  },
  "language_info": {
   "codemirror_mode": {
    "name": "ipython",
    "version": 3
   },
   "file_extension": ".py",
   "mimetype": "text/x-python",
   "name": "python",
   "nbconvert_exporter": "python",
   "pygments_lexer": "ipython3",
   "version": "3.10.0"
  }
 },
 "nbformat": 4,
 "nbformat_minor": 5
}
