{
 "cells": [
  {
   "cell_type": "code",
   "execution_count": 43,
   "id": "224720ac",
   "metadata": {},
   "outputs": [
    {
     "data": {
      "text/plain": [
       "['http://www.aellea', 'script/zuludawn.']"
      ]
     },
     "execution_count": 43,
     "metadata": {},
     "output_type": "execute_result"
    }
   ],
   "source": [
    "import bs4\n",
    "from bs4 import BeautifulSoup\n",
    "\n",
    "infile=open('raw_script_urls.txt', 'r', encoding='utf-8')\n",
    "all_the_text=infile.read()\n",
    "\n",
    "infile.close()\n",
    "\n",
    "results = all_the_text.split('+++$+++')\n",
    "\n",
    "urls = [value for index, value in enumerate(results) if index %2==0]\n",
    "urls.remove('m0 ')\n",
    "newurl=[x[:-4] for x in urls]\n",
    "cleanurl=[x[1:] for x in newurl]\n",
    "for url in cleanurl:\n",
    "    title = url.split('.com/')\n",
    "title"
   ]
  },
  {
   "cell_type": "code",
   "execution_count": 41,
   "id": "311be036",
   "metadata": {},
   "outputs": [
    {
     "data": {
      "text/plain": [
       "['http://leonscripts.tripod.com/']"
      ]
     },
     "execution_count": 41,
     "metadata": {},
     "output_type": "execute_result"
    }
   ],
   "source": []
  },
  {
   "cell_type": "code",
   "execution_count": 2,
   "id": "ec77dbba",
   "metadata": {},
   "outputs": [
    {
     "data": {
      "text/plain": [
       "['http://www.dailyscript.com/scripts/10Things.html',\n",
       " 'http://www.hundland.org/scripts/1492-ConquestOfParadise.txt',\n",
       " 'http://www.dailyscript.com/scripts/15minutes.html',\n",
       " 'http://www.scifiscripts.com/scripts/2001.txt',\n",
       " 'http://www.awesomefilm.com/script/48hours.txt',\n",
       " 'http://www.scifiscripts.com/scripts/5thelement.txt',\n",
       " 'http://www.dailyscript.com/scripts/eight-millimeter.html',\n",
       " 'http://www.hundland.org/scripts/A-Nightmare-on-Elm-Street-4.txt',\n",
       " 'http://www.hundland.org/scripts/A-Nightmare-on-Elm-Street-5.txt',\n",
       " 'http://leonscripts.tripod.com/scripts/ATOMICSUB.html\\n']"
      ]
     },
     "execution_count": 2,
     "metadata": {},
     "output_type": "execute_result"
    }
   ],
   "source": [
    "len(cleanurl)\n",
    "cleanurl[:10]"
   ]
  },
  {
   "cell_type": "code",
   "execution_count": 3,
   "id": "4a9bcf73",
   "metadata": {},
   "outputs": [],
   "source": [
    "import requests\n",
    "def scraping_scripts(insert):\n",
    "    testing=requests.get(insert)\n",
    "    results=testing.text\n",
    "    return results\n",
    "\n",
    "scripts_list=[]\n",
    "\n",
    "for index, url in enumerate(cleanurl[:10]):\n",
    "    scripts_dict={}\n",
    "    text=scraping_scripts(url)\n",
    "    soup=BeautifulSoup(text, features='html.parser')\n",
    "    script=soup.get_text()\n",
    "    scripts_dict['url']=url\n",
    "    scripts_dict['script']=script\n",
    "    scripts_list.append(scripts_dict)\n"
   ]
  },
  {
   "cell_type": "code",
   "execution_count": 8,
   "id": "9c3fd666",
   "metadata": {},
   "outputs": [
    {
     "ename": "NameError",
     "evalue": "name 'title' is not defined",
     "output_type": "error",
     "traceback": [
      "\u001b[1;31m---------------------------------------------------------------------------\u001b[0m",
      "\u001b[1;31mNameError\u001b[0m                                 Traceback (most recent call last)",
      "Input \u001b[1;32mIn [8]\u001b[0m, in \u001b[0;36m<cell line: 1>\u001b[1;34m()\u001b[0m\n\u001b[1;32m----> 1\u001b[0m \u001b[43mtitle\u001b[49m\n",
      "\u001b[1;31mNameError\u001b[0m: name 'title' is not defined"
     ]
    }
   ],
   "source": [
    "title"
   ]
  },
  {
   "cell_type": "code",
   "execution_count": 5,
   "id": "1a1bb12a",
   "metadata": {},
   "outputs": [],
   "source": [
    "import pandas as pd"
   ]
  },
  {
   "cell_type": "code",
   "execution_count": 6,
   "id": "f8fee033",
   "metadata": {},
   "outputs": [],
   "source": [
    "filmscripts=pd.DataFrame(scripts_list)\n",
    "filmscripts.to_csv('filmscript_for_notebooks_assn.csv')"
   ]
  },
  {
   "cell_type": "code",
   "execution_count": 7,
   "id": "04bfdfdf",
   "metadata": {},
   "outputs": [
    {
     "data": {
      "text/html": [
       "<div>\n",
       "<style scoped>\n",
       "    .dataframe tbody tr th:only-of-type {\n",
       "        vertical-align: middle;\n",
       "    }\n",
       "\n",
       "    .dataframe tbody tr th {\n",
       "        vertical-align: top;\n",
       "    }\n",
       "\n",
       "    .dataframe thead th {\n",
       "        text-align: right;\n",
       "    }\n",
       "</style>\n",
       "<table border=\"1\" class=\"dataframe\">\n",
       "  <thead>\n",
       "    <tr style=\"text-align: right;\">\n",
       "      <th></th>\n",
       "      <th>url</th>\n",
       "      <th>script</th>\n",
       "    </tr>\n",
       "  </thead>\n",
       "  <tbody>\n",
       "    <tr>\n",
       "      <th>0</th>\n",
       "      <td>http://www.dailyscript.com/scripts/10Things.html</td>\n",
       "      <td>\\n\\n10 Things I Hate About You script by Karen...</td>\n",
       "    </tr>\n",
       "    <tr>\n",
       "      <th>1</th>\n",
       "      <td>http://www.hundland.org/scripts/1492-ConquestO...</td>\n",
       "      <td>\\n\\n\\n\\n\\n\\n\\n</td>\n",
       "    </tr>\n",
       "    <tr>\n",
       "      <th>2</th>\n",
       "      <td>http://www.dailyscript.com/scripts/15minutes.html</td>\n",
       "      <td>\\n\\n15 Minutes script by John Hertzfeld\\n\\n\\n\\...</td>\n",
       "    </tr>\n",
       "    <tr>\n",
       "      <th>3</th>\n",
       "      <td>http://www.scifiscripts.com/scripts/2001.txt</td>\n",
       "      <td>Note from poster to Kubrick newsgroup:\\r\\n\\r\\n...</td>\n",
       "    </tr>\n",
       "    <tr>\n",
       "      <th>4</th>\n",
       "      <td>http://www.awesomefilm.com/script/48hours.txt</td>\n",
       "      <td>\\n\\t\\t\\t\\t\\t\"48 HRS.\"\\n\\n\\t\\t\\t\\t\\t   by\\n\\n\\t...</td>\n",
       "    </tr>\n",
       "    <tr>\n",
       "      <th>5</th>\n",
       "      <td>http://www.scifiscripts.com/scripts/5thelement...</td>\n",
       "      <td>\\t\\t\\t\\tThe Fifth Element\\r\\n\\r\\n\\t\\t\\t\\tAn or...</td>\n",
       "    </tr>\n",
       "    <tr>\n",
       "      <th>6</th>\n",
       "      <td>http://www.dailyscript.com/scripts/eight-milli...</td>\n",
       "      <td>\\n\\n\"8MM\", by Andrew Kevin Walker\\n\\n\\n \\n\\n\\n...</td>\n",
       "    </tr>\n",
       "    <tr>\n",
       "      <th>7</th>\n",
       "      <td>http://www.hundland.org/scripts/A-Nightmare-on...</td>\n",
       "      <td>\\n\\n\\n\\n\\n\\n\\n</td>\n",
       "    </tr>\n",
       "    <tr>\n",
       "      <th>8</th>\n",
       "      <td>http://www.hundland.org/scripts/A-Nightmare-on...</td>\n",
       "      <td>\\n\\n\\n\\n\\n\\n\\n</td>\n",
       "    </tr>\n",
       "    <tr>\n",
       "      <th>9</th>\n",
       "      <td>http://leonscripts.tripod.com/scripts/ATOMICSU...</td>\n",
       "      <td>\\n\\n\\n\\n\\n\\n\\n\\n\\nCreate a Website | Tripod We...</td>\n",
       "    </tr>\n",
       "  </tbody>\n",
       "</table>\n",
       "</div>"
      ],
      "text/plain": [
       "                                                 url  \\\n",
       "0   http://www.dailyscript.com/scripts/10Things.html   \n",
       "1  http://www.hundland.org/scripts/1492-ConquestO...   \n",
       "2  http://www.dailyscript.com/scripts/15minutes.html   \n",
       "3       http://www.scifiscripts.com/scripts/2001.txt   \n",
       "4      http://www.awesomefilm.com/script/48hours.txt   \n",
       "5  http://www.scifiscripts.com/scripts/5thelement...   \n",
       "6  http://www.dailyscript.com/scripts/eight-milli...   \n",
       "7  http://www.hundland.org/scripts/A-Nightmare-on...   \n",
       "8  http://www.hundland.org/scripts/A-Nightmare-on...   \n",
       "9  http://leonscripts.tripod.com/scripts/ATOMICSU...   \n",
       "\n",
       "                                              script  \n",
       "0  \\n\\n10 Things I Hate About You script by Karen...  \n",
       "1                                     \\n\\n\\n\\n\\n\\n\\n  \n",
       "2  \\n\\n15 Minutes script by John Hertzfeld\\n\\n\\n\\...  \n",
       "3  Note from poster to Kubrick newsgroup:\\r\\n\\r\\n...  \n",
       "4  \\n\\t\\t\\t\\t\\t\"48 HRS.\"\\n\\n\\t\\t\\t\\t\\t   by\\n\\n\\t...  \n",
       "5  \\t\\t\\t\\tThe Fifth Element\\r\\n\\r\\n\\t\\t\\t\\tAn or...  \n",
       "6  \\n\\n\"8MM\", by Andrew Kevin Walker\\n\\n\\n \\n\\n\\n...  \n",
       "7                                     \\n\\n\\n\\n\\n\\n\\n  \n",
       "8                                     \\n\\n\\n\\n\\n\\n\\n  \n",
       "9  \\n\\n\\n\\n\\n\\n\\n\\n\\nCreate a Website | Tripod We...  "
      ]
     },
     "execution_count": 7,
     "metadata": {},
     "output_type": "execute_result"
    }
   ],
   "source": [
    "filmscripts"
   ]
  }
 ],
 "metadata": {
  "kernelspec": {
   "display_name": "Python 3 (ipykernel)",
   "language": "python",
   "name": "python3"
  },
  "language_info": {
   "codemirror_mode": {
    "name": "ipython",
    "version": 3
   },
   "file_extension": ".py",
   "mimetype": "text/x-python",
   "name": "python",
   "nbconvert_exporter": "python",
   "pygments_lexer": "ipython3",
   "version": "3.10.0"
  }
 },
 "nbformat": 4,
 "nbformat_minor": 5
}
