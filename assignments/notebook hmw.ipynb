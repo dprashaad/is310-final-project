{
 "cells": [
  {
   "cell_type": "code",
   "execution_count": 1,
   "id": "224720ac",
   "metadata": {},
   "outputs": [],
   "source": [
    "import bs4\n",
    "from bs4 import BeautifulSoup\n",
    "\n",
    "infile=open('raw_script_urls.txt', 'r', encoding='utf-8')\n",
    "all_the_text=infile.read()\n",
    "\n",
    "infile.close()\n",
    "\n",
    "results = all_the_text.split('+++$+++')\n",
    "\n",
    "urls = [value for index, value in enumerate(results) if index %2==0]\n",
    "urls.remove('m0 ')\n",
    "newurl=[x[:-4] for x in urls]\n",
    "cleanurl=[x[1:] for x in newurl]"
   ]
  },
  {
   "cell_type": "code",
   "execution_count": 2,
   "id": "3a21b46c",
   "metadata": {},
   "outputs": [],
   "source": [
    "y=[]\n",
    "for x in cleanurl:\n",
    "    if \"scripts/\" in x:\n",
    "        y.append(x.split('/scripts/'))\n",
    "    else:\n",
    "        y.append(x.split('/script/'))"
   ]
  },
  {
   "cell_type": "code",
   "execution_count": 9,
   "id": "1cd27f7d",
   "metadata": {},
   "outputs": [],
   "source": [
    "z=[]\n",
    "for www in y:\n",
    "    for w in www:\n",
    "        z.append(w)\n",
    "\n",
    "for listitems in z:\n",
    "    if listitems == '':\n",
    "        z.remove(listitems)\n",
    "for items in z:\n",
    "    if 'www' in items:\n",
    "        z.remove(items)\n",
    "for itemss in z:\n",
    "    if 'http' in itemss:\n",
    "        z.remove(itemss)"
   ]
  },
  {
   "cell_type": "code",
   "execution_count": 11,
   "id": "9ce0a5fc",
   "metadata": {},
   "outputs": [
    {
     "data": {
      "text/plain": [
       "['10Things.html',\n",
       " '1492-ConquestOfParadise.txt',\n",
       " '15minutes.html',\n",
       " '2001.txt',\n",
       " '48hours.txt',\n",
       " '5thelement.txt',\n",
       " 'eight-millimeter.html',\n",
       " 'A-Nightmare-on-Elm-Street-4.txt',\n",
       " 'A-Nightmare-on-Elm-Street-5.txt',\n",
       " 'ATOMICSUB.html\\n']"
      ]
     },
     "execution_count": 11,
     "metadata": {},
     "output_type": "execute_result"
    }
   ],
   "source": [
    "z[:10]  #script titles from url"
   ]
  },
  {
   "cell_type": "code",
   "execution_count": 5,
   "id": "ec77dbba",
   "metadata": {},
   "outputs": [
    {
     "data": {
      "text/plain": [
       "['http://www.dailyscript.com/scripts/10Things.html',\n",
       " 'http://www.hundland.org/scripts/1492-ConquestOfParadise.txt',\n",
       " 'http://www.dailyscript.com/scripts/15minutes.html',\n",
       " 'http://www.scifiscripts.com/scripts/2001.txt',\n",
       " 'http://www.awesomefilm.com/script/48hours.txt',\n",
       " 'http://www.scifiscripts.com/scripts/5thelement.txt',\n",
       " 'http://www.dailyscript.com/scripts/eight-millimeter.html',\n",
       " 'http://www.hundland.org/scripts/A-Nightmare-on-Elm-Street-4.txt',\n",
       " 'http://www.hundland.org/scripts/A-Nightmare-on-Elm-Street-5.txt',\n",
       " 'http://leonscripts.tripod.com/scripts/ATOMICSUB.html\\n']"
      ]
     },
     "execution_count": 5,
     "metadata": {},
     "output_type": "execute_result"
    }
   ],
   "source": [
    "len(cleanurl)\n",
    "cleanurl[:10]"
   ]
  },
  {
   "cell_type": "code",
   "execution_count": 6,
   "id": "4a9bcf73",
   "metadata": {},
   "outputs": [],
   "source": [
    "import requests\n",
    "def scraping_scripts(insert):\n",
    "    testing=requests.get(insert)\n",
    "    results=testing.text\n",
    "    return results\n",
    "\n",
    "scripts_list=[]\n",
    "\n",
    "for index, url in enumerate(cleanurl[:10]):\n",
    "    scripts_dict={}\n",
    "    text=scraping_scripts(url)\n",
    "    soup=BeautifulSoup(text, features='html.parser')\n",
    "    script=soup.get_text()\n",
    "    scripts_dict['url']=url\n",
    "    scripts_dict['script']=script\n",
    "    scripts_list.append(scripts_dict)\n"
   ]
  },
  {
   "cell_type": "code",
   "execution_count": 7,
   "id": "69fe8b92",
   "metadata": {},
   "outputs": [
    {
     "ename": "NameError",
     "evalue": "name 'title' is not defined",
     "output_type": "error",
     "traceback": [
      "\u001b[1;31m---------------------------------------------------------------------------\u001b[0m",
      "\u001b[1;31mNameError\u001b[0m                                 Traceback (most recent call last)",
      "Input \u001b[1;32mIn [7]\u001b[0m, in \u001b[0;36m<cell line: 1>\u001b[1;34m()\u001b[0m\n\u001b[1;32m----> 1\u001b[0m \u001b[43mtitle\u001b[49m\n",
      "\u001b[1;31mNameError\u001b[0m: name 'title' is not defined"
     ]
    }
   ],
   "source": [
    "title"
   ]
  },
  {
   "cell_type": "code",
   "execution_count": null,
   "id": "1a1bb12a",
   "metadata": {},
   "outputs": [],
   "source": [
    "import pandas as pd"
   ]
  },
  {
   "cell_type": "code",
   "execution_count": null,
   "id": "f8fee033",
   "metadata": {},
   "outputs": [],
   "source": [
    "filmscripts=pd.DataFrame(scripts_list)\n",
    "filmscripts.to_csv('filmscript_for_notebooks_assn.csv')"
   ]
  },
  {
   "cell_type": "code",
   "execution_count": null,
   "id": "04bfdfdf",
   "metadata": {},
   "outputs": [],
   "source": [
    "filmscripts"
   ]
  }
 ],
 "metadata": {
  "kernelspec": {
   "display_name": "Python 3 (ipykernel)",
   "language": "python",
   "name": "python3"
  },
  "language_info": {
   "codemirror_mode": {
    "name": "ipython",
    "version": 3
   },
   "file_extension": ".py",
   "mimetype": "text/x-python",
   "name": "python",
   "nbconvert_exporter": "python",
   "pygments_lexer": "ipython3",
   "version": "3.10.0"
  }
 },
 "nbformat": 4,
 "nbformat_minor": 5
}
